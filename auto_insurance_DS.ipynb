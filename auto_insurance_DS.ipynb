{
 "cells": [
  {
   "cell_type": "markdown",
   "metadata": {},
   "source": [
    "## Auto Insurance Claims Prediction\n",
    "\n",
    "### Predict if a customer was in a car crash or not i.e. predict 'TARGET_FLAG' column\n",
    "\n",
    "Name : Sai Sandeep Sharma CHITTILLA\n",
    "\n",
    "Email : sharma.sandeepch@gmail.com\n",
    "\n",
    "Github : https://github.com/sharma-sandeepch?tab=repositories"
   ]
  },
  {
   "cell_type": "code",
   "execution_count": 1,
   "metadata": {},
   "outputs": [],
   "source": [
    "import pandas as pd\n",
    "import numpy as np\n",
    "\n",
    "from matplotlib import pyplot as plt\n",
    "import seaborn as sns"
   ]
  },
  {
   "cell_type": "code",
   "execution_count": 2,
   "metadata": {},
   "outputs": [],
   "source": [
    "pd.set_option('display.max_columns', None)\n",
    "import warnings\n",
    "warnings.filterwarnings('ignore')"
   ]
  },
  {
   "cell_type": "code",
   "execution_count": 3,
   "metadata": {},
   "outputs": [],
   "source": [
    "train_auto = 'auto-insurance-fall-2017/train_auto.csv'\n",
    "test_auto = 'auto-insurance-fall-2017/test_auto.csv'"
   ]
  },
  {
   "cell_type": "code",
   "execution_count": 4,
   "metadata": {},
   "outputs": [],
   "source": [
    "df_train = pd.read_csv(train_auto)\n",
    "df_test = pd.read_csv(test_auto)"
   ]
  },
  {
   "cell_type": "code",
   "execution_count": 5,
   "metadata": {},
   "outputs": [
    {
     "name": "stdout",
     "output_type": "stream",
     "text": [
      "<class 'pandas.core.frame.DataFrame'>\n",
      "RangeIndex: 8161 entries, 0 to 8160\n",
      "Data columns (total 26 columns):\n",
      " #   Column       Non-Null Count  Dtype  \n",
      "---  ------       --------------  -----  \n",
      " 0   INDEX        8161 non-null   int64  \n",
      " 1   TARGET_FLAG  8161 non-null   int64  \n",
      " 2   TARGET_AMT   8161 non-null   float64\n",
      " 3   KIDSDRIV     8161 non-null   int64  \n",
      " 4   AGE          8155 non-null   float64\n",
      " 5   HOMEKIDS     8161 non-null   int64  \n",
      " 6   YOJ          7707 non-null   float64\n",
      " 7   INCOME       7716 non-null   object \n",
      " 8   PARENT1      8161 non-null   object \n",
      " 9   HOME_VAL     7697 non-null   object \n",
      " 10  MSTATUS      8161 non-null   object \n",
      " 11  SEX          8161 non-null   object \n",
      " 12  EDUCATION    8161 non-null   object \n",
      " 13  JOB          7635 non-null   object \n",
      " 14  TRAVTIME     8161 non-null   int64  \n",
      " 15  CAR_USE      8161 non-null   object \n",
      " 16  BLUEBOOK     8161 non-null   object \n",
      " 17  TIF          8161 non-null   int64  \n",
      " 18  CAR_TYPE     8161 non-null   object \n",
      " 19  RED_CAR      8161 non-null   object \n",
      " 20  OLDCLAIM     8161 non-null   object \n",
      " 21  CLM_FREQ     8161 non-null   int64  \n",
      " 22  REVOKED      8161 non-null   object \n",
      " 23  MVR_PTS      8161 non-null   int64  \n",
      " 24  CAR_AGE      7651 non-null   float64\n",
      " 25  URBANICITY   8161 non-null   object \n",
      "dtypes: float64(4), int64(8), object(14)\n",
      "memory usage: 1.6+ MB\n"
     ]
    }
   ],
   "source": [
    "df_train.info()"
   ]
  },
  {
   "cell_type": "code",
   "execution_count": 6,
   "metadata": {},
   "outputs": [
    {
     "data": {
      "text/plain": [
       "8161"
      ]
     },
     "execution_count": 6,
     "metadata": {},
     "output_type": "execute_result"
    }
   ],
   "source": [
    "df_train['INDEX'].unique().shape[0]"
   ]
  },
  {
   "cell_type": "markdown",
   "metadata": {},
   "source": [
    "Observations : \n",
    "\n",
    "1. We have 8161 entries with unique INDEX ids\n",
    "\n",
    "2. Columns with nulls : AGE, YOJ, INCOME, HOME_VAL, JOB, CAR_AGE\n",
    "    We will impute these columns later in the notebook"
   ]
  },
  {
   "cell_type": "code",
   "execution_count": 7,
   "metadata": {},
   "outputs": [
    {
     "data": {
      "text/html": [
       "<div>\n",
       "<style scoped>\n",
       "    .dataframe tbody tr th:only-of-type {\n",
       "        vertical-align: middle;\n",
       "    }\n",
       "\n",
       "    .dataframe tbody tr th {\n",
       "        vertical-align: top;\n",
       "    }\n",
       "\n",
       "    .dataframe thead th {\n",
       "        text-align: right;\n",
       "    }\n",
       "</style>\n",
       "<table border=\"1\" class=\"dataframe\">\n",
       "  <thead>\n",
       "    <tr style=\"text-align: right;\">\n",
       "      <th></th>\n",
       "      <th>INDEX</th>\n",
       "      <th>TARGET_FLAG</th>\n",
       "      <th>TARGET_AMT</th>\n",
       "      <th>KIDSDRIV</th>\n",
       "      <th>AGE</th>\n",
       "      <th>HOMEKIDS</th>\n",
       "      <th>YOJ</th>\n",
       "      <th>INCOME</th>\n",
       "      <th>PARENT1</th>\n",
       "      <th>HOME_VAL</th>\n",
       "      <th>MSTATUS</th>\n",
       "      <th>SEX</th>\n",
       "      <th>EDUCATION</th>\n",
       "      <th>JOB</th>\n",
       "      <th>TRAVTIME</th>\n",
       "      <th>CAR_USE</th>\n",
       "      <th>BLUEBOOK</th>\n",
       "      <th>TIF</th>\n",
       "      <th>CAR_TYPE</th>\n",
       "      <th>RED_CAR</th>\n",
       "      <th>OLDCLAIM</th>\n",
       "      <th>CLM_FREQ</th>\n",
       "      <th>REVOKED</th>\n",
       "      <th>MVR_PTS</th>\n",
       "      <th>CAR_AGE</th>\n",
       "      <th>URBANICITY</th>\n",
       "    </tr>\n",
       "  </thead>\n",
       "  <tbody>\n",
       "    <tr>\n",
       "      <th>0</th>\n",
       "      <td>1</td>\n",
       "      <td>0</td>\n",
       "      <td>0.0</td>\n",
       "      <td>0</td>\n",
       "      <td>60.0</td>\n",
       "      <td>0</td>\n",
       "      <td>11.0</td>\n",
       "      <td>$67,349</td>\n",
       "      <td>No</td>\n",
       "      <td>$0</td>\n",
       "      <td>z_No</td>\n",
       "      <td>M</td>\n",
       "      <td>PhD</td>\n",
       "      <td>Professional</td>\n",
       "      <td>14</td>\n",
       "      <td>Private</td>\n",
       "      <td>$14,230</td>\n",
       "      <td>11</td>\n",
       "      <td>Minivan</td>\n",
       "      <td>yes</td>\n",
       "      <td>$4,461</td>\n",
       "      <td>2</td>\n",
       "      <td>No</td>\n",
       "      <td>3</td>\n",
       "      <td>18.0</td>\n",
       "      <td>Highly Urban/ Urban</td>\n",
       "    </tr>\n",
       "    <tr>\n",
       "      <th>1</th>\n",
       "      <td>2</td>\n",
       "      <td>0</td>\n",
       "      <td>0.0</td>\n",
       "      <td>0</td>\n",
       "      <td>43.0</td>\n",
       "      <td>0</td>\n",
       "      <td>11.0</td>\n",
       "      <td>$91,449</td>\n",
       "      <td>No</td>\n",
       "      <td>$257,252</td>\n",
       "      <td>z_No</td>\n",
       "      <td>M</td>\n",
       "      <td>z_High School</td>\n",
       "      <td>z_Blue Collar</td>\n",
       "      <td>22</td>\n",
       "      <td>Commercial</td>\n",
       "      <td>$14,940</td>\n",
       "      <td>1</td>\n",
       "      <td>Minivan</td>\n",
       "      <td>yes</td>\n",
       "      <td>$0</td>\n",
       "      <td>0</td>\n",
       "      <td>No</td>\n",
       "      <td>0</td>\n",
       "      <td>1.0</td>\n",
       "      <td>Highly Urban/ Urban</td>\n",
       "    </tr>\n",
       "    <tr>\n",
       "      <th>2</th>\n",
       "      <td>4</td>\n",
       "      <td>0</td>\n",
       "      <td>0.0</td>\n",
       "      <td>0</td>\n",
       "      <td>35.0</td>\n",
       "      <td>1</td>\n",
       "      <td>10.0</td>\n",
       "      <td>$16,039</td>\n",
       "      <td>No</td>\n",
       "      <td>$124,191</td>\n",
       "      <td>Yes</td>\n",
       "      <td>z_F</td>\n",
       "      <td>z_High School</td>\n",
       "      <td>Clerical</td>\n",
       "      <td>5</td>\n",
       "      <td>Private</td>\n",
       "      <td>$4,010</td>\n",
       "      <td>4</td>\n",
       "      <td>z_SUV</td>\n",
       "      <td>no</td>\n",
       "      <td>$38,690</td>\n",
       "      <td>2</td>\n",
       "      <td>No</td>\n",
       "      <td>3</td>\n",
       "      <td>10.0</td>\n",
       "      <td>Highly Urban/ Urban</td>\n",
       "    </tr>\n",
       "    <tr>\n",
       "      <th>3</th>\n",
       "      <td>5</td>\n",
       "      <td>0</td>\n",
       "      <td>0.0</td>\n",
       "      <td>0</td>\n",
       "      <td>51.0</td>\n",
       "      <td>0</td>\n",
       "      <td>14.0</td>\n",
       "      <td>NaN</td>\n",
       "      <td>No</td>\n",
       "      <td>$306,251</td>\n",
       "      <td>Yes</td>\n",
       "      <td>M</td>\n",
       "      <td>&lt;High School</td>\n",
       "      <td>z_Blue Collar</td>\n",
       "      <td>32</td>\n",
       "      <td>Private</td>\n",
       "      <td>$15,440</td>\n",
       "      <td>7</td>\n",
       "      <td>Minivan</td>\n",
       "      <td>yes</td>\n",
       "      <td>$0</td>\n",
       "      <td>0</td>\n",
       "      <td>No</td>\n",
       "      <td>0</td>\n",
       "      <td>6.0</td>\n",
       "      <td>Highly Urban/ Urban</td>\n",
       "    </tr>\n",
       "    <tr>\n",
       "      <th>4</th>\n",
       "      <td>6</td>\n",
       "      <td>0</td>\n",
       "      <td>0.0</td>\n",
       "      <td>0</td>\n",
       "      <td>50.0</td>\n",
       "      <td>0</td>\n",
       "      <td>NaN</td>\n",
       "      <td>$114,986</td>\n",
       "      <td>No</td>\n",
       "      <td>$243,925</td>\n",
       "      <td>Yes</td>\n",
       "      <td>z_F</td>\n",
       "      <td>PhD</td>\n",
       "      <td>Doctor</td>\n",
       "      <td>36</td>\n",
       "      <td>Private</td>\n",
       "      <td>$18,000</td>\n",
       "      <td>1</td>\n",
       "      <td>z_SUV</td>\n",
       "      <td>no</td>\n",
       "      <td>$19,217</td>\n",
       "      <td>2</td>\n",
       "      <td>Yes</td>\n",
       "      <td>3</td>\n",
       "      <td>17.0</td>\n",
       "      <td>Highly Urban/ Urban</td>\n",
       "    </tr>\n",
       "  </tbody>\n",
       "</table>\n",
       "</div>"
      ],
      "text/plain": [
       "   INDEX  TARGET_FLAG  TARGET_AMT  KIDSDRIV   AGE  HOMEKIDS   YOJ    INCOME  \\\n",
       "0      1            0         0.0         0  60.0         0  11.0   $67,349   \n",
       "1      2            0         0.0         0  43.0         0  11.0   $91,449   \n",
       "2      4            0         0.0         0  35.0         1  10.0   $16,039   \n",
       "3      5            0         0.0         0  51.0         0  14.0       NaN   \n",
       "4      6            0         0.0         0  50.0         0   NaN  $114,986   \n",
       "\n",
       "  PARENT1  HOME_VAL MSTATUS  SEX      EDUCATION            JOB  TRAVTIME  \\\n",
       "0      No        $0    z_No    M            PhD   Professional        14   \n",
       "1      No  $257,252    z_No    M  z_High School  z_Blue Collar        22   \n",
       "2      No  $124,191     Yes  z_F  z_High School       Clerical         5   \n",
       "3      No  $306,251     Yes    M   <High School  z_Blue Collar        32   \n",
       "4      No  $243,925     Yes  z_F            PhD         Doctor        36   \n",
       "\n",
       "      CAR_USE BLUEBOOK  TIF CAR_TYPE RED_CAR OLDCLAIM  CLM_FREQ REVOKED  \\\n",
       "0     Private  $14,230   11  Minivan     yes   $4,461         2      No   \n",
       "1  Commercial  $14,940    1  Minivan     yes       $0         0      No   \n",
       "2     Private   $4,010    4    z_SUV      no  $38,690         2      No   \n",
       "3     Private  $15,440    7  Minivan     yes       $0         0      No   \n",
       "4     Private  $18,000    1    z_SUV      no  $19,217         2     Yes   \n",
       "\n",
       "   MVR_PTS  CAR_AGE           URBANICITY  \n",
       "0        3     18.0  Highly Urban/ Urban  \n",
       "1        0      1.0  Highly Urban/ Urban  \n",
       "2        3     10.0  Highly Urban/ Urban  \n",
       "3        0      6.0  Highly Urban/ Urban  \n",
       "4        3     17.0  Highly Urban/ Urban  "
      ]
     },
     "execution_count": 7,
     "metadata": {},
     "output_type": "execute_result"
    }
   ],
   "source": [
    "df_train.head()"
   ]
  },
  {
   "cell_type": "code",
   "execution_count": 8,
   "metadata": {},
   "outputs": [],
   "source": [
    "# Cleaning operations on the columns \n",
    "\n",
    "# Columns corresponding to money have '$' and ',' \n",
    "# We Remove them from these columns and convert the column to float\n",
    "\n",
    "dollar_cols = ['INCOME', 'HOME_VAL', 'BLUEBOOK', 'OLDCLAIM']\n",
    "\n",
    "df_train[dollar_cols] = df_train[dollar_cols].apply(lambda x : x.str.replace(',','').str.strip('$'))\n",
    "df_train[dollar_cols] = df_train[dollar_cols].astype('float')\n",
    "\n",
    "df_test[dollar_cols] = df_test[dollar_cols].apply(lambda x : x.str.replace(',','').str.strip('$'))\n",
    "df_test[dollar_cols] = df_test[dollar_cols].astype('float')"
   ]
  },
  {
   "cell_type": "code",
   "execution_count": 9,
   "metadata": {},
   "outputs": [],
   "source": [
    "# Identifying different column types so it becomes easy to handle them later\n",
    "\n",
    "target = 'TARGET_FLAG'\n",
    "target_amt = 'TARGET_AMT' # we are not concerned with this variable for this case\n",
    "\n",
    "index = 'INDEX'\n",
    "\n",
    "continuous_cols = ['AGE', 'KIDSDRIV', 'HOMEKIDS', 'YOJ', 'TRAVTIME', 'TIF', 'CLM_FREQ', 'MVR_PTS', 'CAR_AGE']\n",
    "continuous_cols.extend(dollar_cols)\n",
    "\n",
    "categorical_cols = ['PARENT1', 'MSTATUS', 'SEX', 'EDUCATION', 'JOB', 'CAR_USE', 'CAR_TYPE', 'RED_CAR', \n",
    "                    'REVOKED', 'URBANICITY']"
   ]
  },
  {
   "cell_type": "code",
   "execution_count": 10,
   "metadata": {},
   "outputs": [
    {
     "name": "stdout",
     "output_type": "stream",
     "text": [
      "Duplicates in training :  0\n",
      "Duplcates in test :  0\n"
     ]
    }
   ],
   "source": [
    "# checking for duplicate records\n",
    "# There seem to be no duplicates in Train and Test\n",
    "\n",
    "print('Duplicates in training : ', df_train[df_train.duplicated(keep='first')].shape[0])\n",
    "print('Duplcates in test : ', df_test[df_test.duplicated(keep='first')].shape[0])"
   ]
  },
  {
   "cell_type": "code",
   "execution_count": 11,
   "metadata": {},
   "outputs": [
    {
     "data": {
      "image/png": "[encoded data removed]",
      "text/plain": [
       "<Figure size 432x288 with 1 Axes>"
      ]
     },
     "metadata": {
      "needs_background": "light"
     },
     "output_type": "display_data"
    },
    {
     "name": "stdout",
     "output_type": "stream",
     "text": [
      "Percentage of claims (TARGET_FLAG = 1): 26.38%\n"
     ]
    }
   ],
   "source": [
    "# Checking distribution of claim vs no claim in training data\n",
    "\n",
    "fig = df_train['TARGET_FLAG'].hist()\n",
    "plt.show()\n",
    "\n",
    "print(f\"Percentage of claims (TARGET_FLAG = 1): {df_train[df_train['TARGET_FLAG']==1].TARGET_FLAG.count()/len(df_train.index):.2%}\")"
   ]
  },
  {
   "cell_type": "markdown",
   "metadata": {},
   "source": [
    "Observation :\n",
    "\n",
    "\n",
    "1. Approximately 75% of the entries have no claim as opposed to 25% who do. So, predicting a no claim ALWAYS would yield a 75% accuracy.\n",
    "\n",
    "\n",
    "2. Slightly Imbalanced"
   ]
  },
  {
   "cell_type": "code",
   "execution_count": 12,
   "metadata": {},
   "outputs": [
    {
     "data": {
      "image/png": "[encoded data removed]",
      "text/plain": [
       "<Figure size 1440x1080 with 16 Axes>"
      ]
     },
     "metadata": {
      "needs_background": "light"
     },
     "output_type": "display_data"
    }
   ],
   "source": [
    "# Visualizing continuous variables\n",
    "\n",
    "\n",
    "fig = df_train[continuous_cols].hist(figsize=[20,15],log='false')\n",
    "plt.show()"
   ]
  },
  {
   "cell_type": "markdown",
   "metadata": {},
   "source": [
    "Observations :\n",
    "\n",
    "1. Age is normally distributed as we would expect. We can bin ages into : 20-40, 41-60, 61+\n",
    "2. KIDSDRIVING has many 0s (almost an entire order) so we can create a binary feature here whether kids drive or not\n",
    "3. HOMEKIDS can also be converted to a binary feature (0 if no kids at home, 1 otherwise)\n",
    "4. YOJ is slmost normally distributed but has few 0s which are probably new people\n",
    "5. Several variables which are right skewed so maybe we could log transform these columns\n",
    "6. CAR_AGE has a weird negative value. Probably we could drop this record\n",
    "7. HOME_VAL has lots of 0s. Maybe we could create an additional Binary feature for those with HOME_VAL > 0 (Assuming that those with 0 value, do not own homes)\n",
    "8. OLDCLAIM has 0s as well and is probably correlated to CLM_FREQ. Still we could create a new binary flag to indicate whetehr the customer has had a previous claim or not\n",
    "9. MVR_PTS is a Motor Vehicle Records system that can indicate risk level of customers. From https://www.wnins.com/losscontrolbulletins/MVREvaluation.pdf we can group them into categories :\n",
    "    1-3 LowRisk\n",
    "    4-5 MinorRisk\n",
    "    6-7 BorderLineRisk\n",
    "    8-9 MediumRisk\n",
    "    10+ HighRisk"
   ]
  },
  {
   "cell_type": "code",
   "execution_count": 13,
   "metadata": {},
   "outputs": [],
   "source": [
    "# This function is used to get the '%' for different on top of the bars in the countplot\n",
    "# I use this when seperating the Crash(TARGET_FLAG=1) vs No-Crash(TARGET_FLAG=0) \n",
    "# and visualizing other features\n",
    "\n",
    "def with_hue(plot, feature, Number_of_categories, hue_categories):\n",
    "    a = [0 if np.isnan(p.get_height()) else p.get_height() for p in plot.patches]\n",
    "#     print(a)\n",
    "    patch = [p for p in plot.patches]\n",
    "    for i in range(Number_of_categories):\n",
    "        total = feature.value_counts().values[i]\n",
    "        for j in range(hue_categories):\n",
    "            percentage = '{:.1f}%'.format(100 * a[(j*Number_of_categories + i)]/total)\n",
    "            x = patch[(j*Number_of_categories + i)].get_x() + patch[(j*Number_of_categories + i)].get_width() / 2 - 0.15\n",
    "            y = patch[(j*Number_of_categories + i)].get_y() + patch[(j*Number_of_categories + i)].get_height() \n",
    "\n",
    "            plot.annotate(percentage, (x, y), size = 12)"
   ]
  },
  {
   "cell_type": "code",
   "execution_count": 14,
   "metadata": {
    "scrolled": true
   },
   "outputs": [
    {
     "name": "stdout",
     "output_type": "stream",
     "text": [
      "\t\t\t\t\tCategorical Features\n"
     ]
    },
    {
     "data": {
      "image/png": "[encoded data removed]",
      "text/plain": [
       "<Figure size 1080x2880 with 10 Axes>"
      ]
     },
     "metadata": {
      "needs_background": "light"
     },
     "output_type": "display_data"
    }
   ],
   "source": [
    "# Visualizing Categorical Variables\n",
    "\n",
    "fig, axes = plt.subplots(10, 1, figsize=(15, 40))\n",
    "axes = axes.flatten()\n",
    "\n",
    "print('\\t\\t\\t\\t\\tCategorical Features')\n",
    "\n",
    "for ax, y in zip(axes, categorical_cols):\n",
    "    plt.setp(ax.get_xticklabels(), rotation=25)\n",
    "    sns.countplot(y, data=df_train, ax=ax)\n",
    "\n",
    "plt.tight_layout()  \n",
    "plt.show()"
   ]
  },
  {
   "cell_type": "code",
   "execution_count": 15,
   "metadata": {},
   "outputs": [],
   "source": [
    "# Replace '<High School' with 'No High School' to remove the < sign\n",
    "\n",
    "df_train['EDUCATION'] = df_train['EDUCATION'].replace('<High School', 'No High School')\n",
    "df_test['EDUCATION'] = df_test['EDUCATION'].replace('<High School', 'No High School')"
   ]
  },
  {
   "cell_type": "code",
   "execution_count": 16,
   "metadata": {},
   "outputs": [
    {
     "data": {
      "image/png": "[encoded data removed]",
      "text/plain": [
       "<Figure size 1440x360 with 2 Axes>"
      ]
     },
     "metadata": {
      "needs_background": "light"
     },
     "output_type": "display_data"
    }
   ],
   "source": [
    "fig, axes = plt.subplots(1, 2, sharex=True, figsize=(20,5))\n",
    "\n",
    "axes[0].set_title('JOB')\n",
    "sns.countplot(\"TARGET_FLAG\", hue='JOB', data=df_train, ax=axes[0])\n",
    "with_hue(axes[0], df_train['TARGET_FLAG'], 2, 8)\n",
    "\n",
    "axes[1].set_title('EDUCATION')\n",
    "sns.countplot(\"TARGET_FLAG\", hue='EDUCATION', data=df_train, ax=axes[1])\n",
    "with_hue(axes[1], df_train['TARGET_FLAG'], 2, 5)\n",
    "\n",
    "plt.show()"
   ]
  },
  {
   "cell_type": "markdown",
   "metadata": {},
   "source": [
    "Observations (from the cells above) :\n",
    "\n",
    "1. PARENT1, MSTATUS, SEX, RED_CAR, REVOKED are binary features (YES/NO)\n",
    "    - Around 12% of people have single parent\n",
    "    - Around 60% of people are married\n",
    "    - We have almost equal distribution of males and females\n",
    "    - Surprisingly, 25% of the populaiton has a red car\n",
    "    - About 12% of the people had their license revoked prior\n",
    "    \n",
    "2. It is interesting to see from below that - there are higher percentage of people with JOBS : BlueCollar, HomeMaker, Clerical and Student with a crash than there are in without a crash. The opposite is true for people with JOBS : Professional, Doctor, Lawyer and Manager.\n",
    "\n",
    "    We can create a binary feature 'PROFESSIONAL' with 1 if JOB is Professional, Doctor, Lawyer and Manager and 0 otherwise\n",
    "\n",
    "\n",
    "3. Similarly there are higher percentage of people with a HighSchool degree and in a crash than without. Again the opposite is true for those holding degrees like : PhD, Masters, Bachelors\n",
    "\n",
    "\n",
    "    We can create a binary feature 'HIGHLY_EDUCATED' = 1 if Education is PhD, Masters, Bachelors and 0 otherwise"
   ]
  },
  {
   "cell_type": "code",
   "execution_count": 17,
   "metadata": {},
   "outputs": [
    {
     "name": "stdout",
     "output_type": "stream",
     "text": [
      "PARENT1 :\t\tNo new values in Test Data\n",
      "MSTATUS :\t\tNo new values in Test Data\n",
      "SEX :\t\tNo new values in Test Data\n",
      "EDUCATION :\t\tNo new values in Test Data\n",
      "JOB :\t\tNo new values in Test Data\n",
      "CAR_USE :\t\tNo new values in Test Data\n",
      "CAR_TYPE :\t\tNo new values in Test Data\n",
      "RED_CAR :\t\tNo new values in Test Data\n",
      "REVOKED :\t\tNo new values in Test Data\n",
      "URBANICITY :\t\tNo new values in Test Data\n"
     ]
    }
   ],
   "source": [
    "# Checking to see if test data has any new values unseen in training data\n",
    "# So all the different \"Levels\" of values in categorical columns of Test data have been encountered\n",
    "# in Training already.\n",
    "\n",
    "# This makes it easy for us to perform transformations later on\n",
    "\n",
    "for i in categorical_cols:\n",
    "    if df_test[i].isin(df_train[i]).min()==0:\n",
    "        print(i,':\\t\\tUnseen values in Test')\n",
    "    else:\n",
    "        print(i,':\\t\\tNo new values in Test Data')        "
   ]
  },
  {
   "cell_type": "markdown",
   "metadata": {},
   "source": [
    "# Correlations\n",
    "\n",
    "In our case, the target variable is a dichotnous"
   ]
  },
  {
   "cell_type": "code",
   "execution_count": 18,
   "metadata": {},
   "outputs": [],
   "source": [
    "from scipy.stats import pointbiserialr, chi2_contingency\n",
    "from collections import defaultdict"
   ]
  },
  {
   "cell_type": "code",
   "execution_count": 19,
   "metadata": {},
   "outputs": [
    {
     "data": {
      "text/html": [
       "<div>\n",
       "<style scoped>\n",
       "    .dataframe tbody tr th:only-of-type {\n",
       "        vertical-align: middle;\n",
       "    }\n",
       "\n",
       "    .dataframe tbody tr th {\n",
       "        vertical-align: top;\n",
       "    }\n",
       "\n",
       "    .dataframe thead th {\n",
       "        text-align: right;\n",
       "    }\n",
       "</style>\n",
       "<table border=\"1\" class=\"dataframe\">\n",
       "  <thead>\n",
       "    <tr style=\"text-align: right;\">\n",
       "      <th></th>\n",
       "      <th>correlation</th>\n",
       "    </tr>\n",
       "  </thead>\n",
       "  <tbody>\n",
       "    <tr>\n",
       "      <th>HOME_VAL</th>\n",
       "      <td>-0.183737</td>\n",
       "    </tr>\n",
       "    <tr>\n",
       "      <th>INCOME</th>\n",
       "      <td>-0.142008</td>\n",
       "    </tr>\n",
       "    <tr>\n",
       "      <th>BLUEBOOK</th>\n",
       "      <td>-0.103383</td>\n",
       "    </tr>\n",
       "    <tr>\n",
       "      <th>AGE</th>\n",
       "      <td>-0.103217</td>\n",
       "    </tr>\n",
       "    <tr>\n",
       "      <th>CAR_AGE</th>\n",
       "      <td>-0.100651</td>\n",
       "    </tr>\n",
       "    <tr>\n",
       "      <th>TIF</th>\n",
       "      <td>-0.082370</td>\n",
       "    </tr>\n",
       "    <tr>\n",
       "      <th>YOJ</th>\n",
       "      <td>-0.070512</td>\n",
       "    </tr>\n",
       "    <tr>\n",
       "      <th>TRAVTIME</th>\n",
       "      <td>0.048368</td>\n",
       "    </tr>\n",
       "    <tr>\n",
       "      <th>KIDSDRIV</th>\n",
       "      <td>0.103668</td>\n",
       "    </tr>\n",
       "    <tr>\n",
       "      <th>HOMEKIDS</th>\n",
       "      <td>0.115621</td>\n",
       "    </tr>\n",
       "    <tr>\n",
       "      <th>OLDCLAIM</th>\n",
       "      <td>0.138084</td>\n",
       "    </tr>\n",
       "    <tr>\n",
       "      <th>CLM_FREQ</th>\n",
       "      <td>0.216196</td>\n",
       "    </tr>\n",
       "    <tr>\n",
       "      <th>MVR_PTS</th>\n",
       "      <td>0.219197</td>\n",
       "    </tr>\n",
       "  </tbody>\n",
       "</table>\n",
       "</div>"
      ],
      "text/plain": [
       "          correlation\n",
       "HOME_VAL    -0.183737\n",
       "INCOME      -0.142008\n",
       "BLUEBOOK    -0.103383\n",
       "AGE         -0.103217\n",
       "CAR_AGE     -0.100651\n",
       "TIF         -0.082370\n",
       "YOJ         -0.070512\n",
       "TRAVTIME     0.048368\n",
       "KIDSDRIV     0.103668\n",
       "HOMEKIDS     0.115621\n",
       "OLDCLAIM     0.138084\n",
       "CLM_FREQ     0.216196\n",
       "MVR_PTS      0.219197"
      ]
     },
     "execution_count": 19,
     "metadata": {},
     "output_type": "execute_result"
    }
   ],
   "source": [
    "# correlation b/w continuous and dichotomous target\n",
    "\n",
    "pb_corrs = defaultdict()\n",
    "\n",
    "for i in continuous_cols:\n",
    "    pbc = pointbiserialr(df_train[i].dropna(), df_train.dropna(subset=[i])[target])\n",
    "    pb_corrs[i] = pbc[0]\n",
    "    \n",
    "corr_df = pd.DataFrame.from_dict(pb_corrs, orient=\"index\", columns=['correlation'])\n",
    "\n",
    "corr_df.sort_values(by='correlation')"
   ]
  },
  {
   "cell_type": "markdown",
   "metadata": {},
   "source": [
    "### Observations :\n",
    "    \n",
    "1. We can see that HOME_VAL, INCOME, BLUEBOOK are negatively correalted with the TARGET_FLAG implying people with higher values for these variables are associated with less likeliness to crash \n",
    "\n",
    "\n",
    "2. Whereas those people with higher MVR_PTS, CLM_FREQ and OLDCLAIM are associated with higher likeliness to crash.\n",
    "\n",
    "\n",
    "Similarly we can see how other continous variables are correlated to Crashing. \n",
    "\n",
    "All these correlations seem to have very small p-values"
   ]
  },
  {
   "cell_type": "code",
   "execution_count": 20,
   "metadata": {},
   "outputs": [
    {
     "data": {
      "text/html": [
       "<div>\n",
       "<style scoped>\n",
       "    .dataframe tbody tr th:only-of-type {\n",
       "        vertical-align: middle;\n",
       "    }\n",
       "\n",
       "    .dataframe tbody tr th {\n",
       "        vertical-align: top;\n",
       "    }\n",
       "\n",
       "    .dataframe thead th {\n",
       "        text-align: right;\n",
       "    }\n",
       "</style>\n",
       "<table border=\"1\" class=\"dataframe\">\n",
       "  <thead>\n",
       "    <tr style=\"text-align: right;\">\n",
       "      <th></th>\n",
       "      <th>chi2_statistic</th>\n",
       "      <th>p_value</th>\n",
       "    </tr>\n",
       "  </thead>\n",
       "  <tbody>\n",
       "    <tr>\n",
       "      <th>URBANICITY</th>\n",
       "      <td>409.143715</td>\n",
       "      <td>5.630126e-91</td>\n",
       "    </tr>\n",
       "    <tr>\n",
       "      <th>JOB</th>\n",
       "      <td>260.754161</td>\n",
       "      <td>1.421423e-52</td>\n",
       "    </tr>\n",
       "    <tr>\n",
       "      <th>PARENT1</th>\n",
       "      <td>201.702752</td>\n",
       "      <td>8.876894e-46</td>\n",
       "    </tr>\n",
       "    <tr>\n",
       "      <th>REVOKED</th>\n",
       "      <td>187.350671</td>\n",
       "      <td>1.204046e-42</td>\n",
       "    </tr>\n",
       "    <tr>\n",
       "      <th>CAR_USE</th>\n",
       "      <td>165.454063</td>\n",
       "      <td>7.279839e-38</td>\n",
       "    </tr>\n",
       "    <tr>\n",
       "      <th>EDUCATION</th>\n",
       "      <td>170.261938</td>\n",
       "      <td>9.188600e-36</td>\n",
       "    </tr>\n",
       "    <tr>\n",
       "      <th>CAR_TYPE</th>\n",
       "      <td>170.384514</td>\n",
       "      <td>6.040333e-35</td>\n",
       "    </tr>\n",
       "    <tr>\n",
       "      <th>MSTATUS</th>\n",
       "      <td>148.384118</td>\n",
       "      <td>3.909898e-34</td>\n",
       "    </tr>\n",
       "    <tr>\n",
       "      <th>SEX</th>\n",
       "      <td>3.530704</td>\n",
       "      <td>6.024222e-02</td>\n",
       "    </tr>\n",
       "    <tr>\n",
       "      <th>RED_CAR</th>\n",
       "      <td>0.359957</td>\n",
       "      <td>5.485298e-01</td>\n",
       "    </tr>\n",
       "  </tbody>\n",
       "</table>\n",
       "</div>"
      ],
      "text/plain": [
       "            chi2_statistic       p_value\n",
       "URBANICITY      409.143715  5.630126e-91\n",
       "JOB             260.754161  1.421423e-52\n",
       "PARENT1         201.702752  8.876894e-46\n",
       "REVOKED         187.350671  1.204046e-42\n",
       "CAR_USE         165.454063  7.279839e-38\n",
       "EDUCATION       170.261938  9.188600e-36\n",
       "CAR_TYPE        170.384514  6.040333e-35\n",
       "MSTATUS         148.384118  3.909898e-34\n",
       "SEX               3.530704  6.024222e-02\n",
       "RED_CAR           0.359957  5.485298e-01"
      ]
     },
     "execution_count": 20,
     "metadata": {},
     "output_type": "execute_result"
    }
   ],
   "source": [
    "# NEXT, we do a chi2 test for independence with : \n",
    "# H0 : Variables are independent\n",
    "# H1 : Variables are dependent\n",
    "\n",
    "chi2_stats = defaultdict()\n",
    "\n",
    "for i in categorical_cols:\n",
    "    contingency_tab = pd.crosstab(df_train[i], df_train[target]) \n",
    "    chi2_, p_val, _, _ = chi2_contingency(contingency_tab)\n",
    "    chi2_stats[i] = (chi2_, p_val)\n",
    "    \n",
    "chi2_corr_df = pd.DataFrame.from_dict(chi2_stats, orient='index', columns=['chi2_statistic', 'p_value'])\n",
    "chi2_corr_df.sort_values(by='p_value')"
   ]
  },
  {
   "cell_type": "markdown",
   "metadata": {},
   "source": [
    "### Observations :\n",
    "\n",
    "1. We see that several variables have very low p-values allowing us to reject H0 and implying some dependence between these and TARGET_FLAG. They may prove useful in modelling. We can interpret feature importance later as well\n",
    "\n",
    "\n",
    "2. However can observe that the p-value for last 2 variables SEX & RED_CAR are not <0.05 which means we cannot reject H0 and these variables may not have an effect on the TARGET"
   ]
  },
  {
   "cell_type": "markdown",
   "metadata": {},
   "source": [
    "#### 1 weird value in column CAR_AGE, it could've been a mistake. After looking at other columns I've decided to change the value from -3 to 3 since this is a row with a claim as well"
   ]
  },
  {
   "cell_type": "code",
   "execution_count": 21,
   "metadata": {},
   "outputs": [
    {
     "data": {
      "text/html": [
       "<div>\n",
       "<style scoped>\n",
       "    .dataframe tbody tr th:only-of-type {\n",
       "        vertical-align: middle;\n",
       "    }\n",
       "\n",
       "    .dataframe tbody tr th {\n",
       "        vertical-align: top;\n",
       "    }\n",
       "\n",
       "    .dataframe thead th {\n",
       "        text-align: right;\n",
       "    }\n",
       "</style>\n",
       "<table border=\"1\" class=\"dataframe\">\n",
       "  <thead>\n",
       "    <tr style=\"text-align: right;\">\n",
       "      <th></th>\n",
       "      <th>INDEX</th>\n",
       "      <th>TARGET_FLAG</th>\n",
       "      <th>TARGET_AMT</th>\n",
       "      <th>KIDSDRIV</th>\n",
       "      <th>AGE</th>\n",
       "      <th>HOMEKIDS</th>\n",
       "      <th>YOJ</th>\n",
       "      <th>INCOME</th>\n",
       "      <th>PARENT1</th>\n",
       "      <th>HOME_VAL</th>\n",
       "      <th>MSTATUS</th>\n",
       "      <th>SEX</th>\n",
       "      <th>EDUCATION</th>\n",
       "      <th>JOB</th>\n",
       "      <th>TRAVTIME</th>\n",
       "      <th>CAR_USE</th>\n",
       "      <th>BLUEBOOK</th>\n",
       "      <th>TIF</th>\n",
       "      <th>CAR_TYPE</th>\n",
       "      <th>RED_CAR</th>\n",
       "      <th>OLDCLAIM</th>\n",
       "      <th>CLM_FREQ</th>\n",
       "      <th>REVOKED</th>\n",
       "      <th>MVR_PTS</th>\n",
       "      <th>CAR_AGE</th>\n",
       "      <th>URBANICITY</th>\n",
       "    </tr>\n",
       "  </thead>\n",
       "  <tbody>\n",
       "    <tr>\n",
       "      <th>6940</th>\n",
       "      <td>8772</td>\n",
       "      <td>1</td>\n",
       "      <td>1469.0</td>\n",
       "      <td>0</td>\n",
       "      <td>47.0</td>\n",
       "      <td>0</td>\n",
       "      <td>12.0</td>\n",
       "      <td>48696.0</td>\n",
       "      <td>No</td>\n",
       "      <td>212014.0</td>\n",
       "      <td>z_No</td>\n",
       "      <td>z_F</td>\n",
       "      <td>Bachelors</td>\n",
       "      <td>Professional</td>\n",
       "      <td>46</td>\n",
       "      <td>Private</td>\n",
       "      <td>15390.0</td>\n",
       "      <td>4</td>\n",
       "      <td>Pickup</td>\n",
       "      <td>no</td>\n",
       "      <td>33521.0</td>\n",
       "      <td>3</td>\n",
       "      <td>Yes</td>\n",
       "      <td>1</td>\n",
       "      <td>-3.0</td>\n",
       "      <td>Highly Urban/ Urban</td>\n",
       "    </tr>\n",
       "  </tbody>\n",
       "</table>\n",
       "</div>"
      ],
      "text/plain": [
       "      INDEX  TARGET_FLAG  TARGET_AMT  KIDSDRIV   AGE  HOMEKIDS   YOJ   INCOME  \\\n",
       "6940   8772            1      1469.0         0  47.0         0  12.0  48696.0   \n",
       "\n",
       "     PARENT1  HOME_VAL MSTATUS  SEX  EDUCATION           JOB  TRAVTIME  \\\n",
       "6940      No  212014.0    z_No  z_F  Bachelors  Professional        46   \n",
       "\n",
       "      CAR_USE  BLUEBOOK  TIF CAR_TYPE RED_CAR  OLDCLAIM  CLM_FREQ REVOKED  \\\n",
       "6940  Private   15390.0    4   Pickup      no   33521.0         3     Yes   \n",
       "\n",
       "      MVR_PTS  CAR_AGE           URBANICITY  \n",
       "6940        1     -3.0  Highly Urban/ Urban  "
      ]
     },
     "execution_count": 21,
     "metadata": {},
     "output_type": "execute_result"
    }
   ],
   "source": [
    "# This is a data point with a claim and -3.0 as CAR_AGE so I'm going to just make it +3 years\n",
    "df_train[df_train['CAR_AGE']<0]"
   ]
  },
  {
   "cell_type": "code",
   "execution_count": 22,
   "metadata": {},
   "outputs": [],
   "source": [
    "df_train.at[6940, 'CAR_AGE'] = 3.0"
   ]
  },
  {
   "cell_type": "markdown",
   "metadata": {},
   "source": [
    "# Imputation"
   ]
  },
  {
   "cell_type": "code",
   "execution_count": 23,
   "metadata": {},
   "outputs": [
    {
     "name": "stdout",
     "output_type": "stream",
     "text": [
      "Percentage of Missing Values :\n",
      "\n",
      "AGE         0.073520\n",
      "YOJ         5.563044\n",
      "INCOME      5.452763\n",
      "HOME_VAL    5.685578\n",
      "JOB         6.445289\n",
      "CAR_AGE     6.249234\n",
      "dtype: float64\n"
     ]
    }
   ],
   "source": [
    "cols_with_nulls = ['AGE', 'YOJ', 'INCOME', 'HOME_VAL', 'JOB', 'CAR_AGE']\n",
    "print(f'Percentage of Missing Values :\\n\\n{df_train[cols_with_nulls].isna().sum()/df_train.shape[0]*100.0}')\n",
    "\n",
    "# We have 2116 records with atleast one columns value missing\n",
    "\n",
    "# df_train['missing_value'] = df_train.apply(lambda x : x.isna().sum(), axis=1)"
   ]
  },
  {
   "cell_type": "markdown",
   "metadata": {},
   "source": [
    "Ideas for imputing columns : ['AGE', 'YOJ', 'INCOME', 'HOME_VAL', 'JOB', 'CAR_AGE']\n",
    "\n",
    "1. We can do a simple imputation with mean/median/mode statistics. \n",
    "\n",
    "\n",
    "2. We do a MICE imputation technique"
   ]
  },
  {
   "cell_type": "code",
   "execution_count": 24,
   "metadata": {},
   "outputs": [],
   "source": [
    "# create a clone data frame to run Mice imputer\n",
    "df_train_copy = df_train.copy()\n",
    "df_test_copy = df_test.copy()"
   ]
  },
  {
   "cell_type": "code",
   "execution_count": 25,
   "metadata": {},
   "outputs": [
    {
     "name": "stderr",
     "output_type": "stream",
     "text": [
      "Using TensorFlow backend.\n"
     ]
    }
   ],
   "source": [
    "# Writing a custom class to impute values using MICE\n",
    "from fancyimpute import IterativeImputer\n",
    "from sklearn.preprocessing import OrdinalEncoder\n",
    "\n",
    "class MiceImputer():\n",
    "        \n",
    "    def __init__(self, df, categorical_cols):\n",
    "        self.df = df\n",
    "        self.categorical_cols = categorical_cols\n",
    "        self.ordinal_enc_dict = defaultdict(OrdinalEncoder)\n",
    "        self.mice_imputer = IterativeImputer()\n",
    "\n",
    "    def encode_non_nulls(self,):\n",
    "        for col_name in self.categorical_cols:\n",
    "            # Select the non-null values in the column\n",
    "            col = self.df[col_name]\n",
    "            col_not_null = col[col.notnull()]\n",
    "            reshaped_vals = col_not_null.values.reshape(-1, 1)\n",
    "            \n",
    "            # Encode the non-null values of the column\n",
    "            encoded_vals = self.ordinal_enc_dict[col_name].fit_transform(reshaped_vals)\n",
    "            self.df.loc[col.notnull(), col_name] = np.squeeze(encoded_vals)\n",
    "    \n",
    "    def mice_impute(self,):\n",
    "        # imputing the missing value with mice imputer\n",
    "        self.encode_non_nulls()\n",
    "        self.df.iloc[:, :] = np.round(self.mice_imputer.fit_transform(self.df))\n",
    "        \n",
    "        for col in self.categorical_cols:\n",
    "            reshaped_col = self.df[col].values.reshape(-1, 1)\n",
    "            self.df[col] = self.ordinal_enc_dict[col].inverse_transform(reshaped_col)"
   ]
  },
  {
   "cell_type": "code",
   "execution_count": 26,
   "metadata": {},
   "outputs": [],
   "source": [
    "mice_imputer = MiceImputer(df_train_copy[continuous_cols+categorical_cols], categorical_cols)\n",
    "mice_imputer.mice_impute()\n",
    "\n",
    "df_train_imputed = df_train_copy.copy()\n",
    "df_train_imputed[continuous_cols+categorical_cols] = mice_imputer.df[continuous_cols+categorical_cols]"
   ]
  },
  {
   "cell_type": "code",
   "execution_count": 27,
   "metadata": {},
   "outputs": [
    {
     "name": "stdout",
     "output_type": "stream",
     "text": [
      "Percentage of Missing Values after Imputation :\n",
      "\n",
      "AGE         0.0\n",
      "YOJ         0.0\n",
      "INCOME      0.0\n",
      "HOME_VAL    0.0\n",
      "JOB         0.0\n",
      "CAR_AGE     0.0\n",
      "dtype: float64\n"
     ]
    }
   ],
   "source": [
    "print(f'Percentage of Missing Values after Imputation :\\n\\n{df_train_imputed[cols_with_nulls].isna().sum()/df_train_imputed.shape[0]*100.0}')"
   ]
  },
  {
   "cell_type": "code",
   "execution_count": 28,
   "metadata": {},
   "outputs": [
    {
     "data": {
      "text/plain": [
       "'Before Imputing'"
      ]
     },
     "metadata": {},
     "output_type": "display_data"
    },
    {
     "data": {
      "text/html": [
       "<div>\n",
       "<style scoped>\n",
       "    .dataframe tbody tr th:only-of-type {\n",
       "        vertical-align: middle;\n",
       "    }\n",
       "\n",
       "    .dataframe tbody tr th {\n",
       "        vertical-align: top;\n",
       "    }\n",
       "\n",
       "    .dataframe thead th {\n",
       "        text-align: right;\n",
       "    }\n",
       "</style>\n",
       "<table border=\"1\" class=\"dataframe\">\n",
       "  <thead>\n",
       "    <tr style=\"text-align: right;\">\n",
       "      <th></th>\n",
       "      <th>INDEX</th>\n",
       "      <th>TARGET_FLAG</th>\n",
       "      <th>TARGET_AMT</th>\n",
       "      <th>KIDSDRIV</th>\n",
       "      <th>AGE</th>\n",
       "      <th>HOMEKIDS</th>\n",
       "      <th>YOJ</th>\n",
       "      <th>INCOME</th>\n",
       "      <th>HOME_VAL</th>\n",
       "      <th>TRAVTIME</th>\n",
       "      <th>BLUEBOOK</th>\n",
       "      <th>TIF</th>\n",
       "      <th>OLDCLAIM</th>\n",
       "      <th>CLM_FREQ</th>\n",
       "      <th>MVR_PTS</th>\n",
       "      <th>CAR_AGE</th>\n",
       "    </tr>\n",
       "  </thead>\n",
       "  <tbody>\n",
       "    <tr>\n",
       "      <th>count</th>\n",
       "      <td>8161.000000</td>\n",
       "      <td>8161.000000</td>\n",
       "      <td>8161.000000</td>\n",
       "      <td>8161.000000</td>\n",
       "      <td>8155.000000</td>\n",
       "      <td>8161.000000</td>\n",
       "      <td>7707.000000</td>\n",
       "      <td>7716.000000</td>\n",
       "      <td>7697.000000</td>\n",
       "      <td>8161.000000</td>\n",
       "      <td>8161.000000</td>\n",
       "      <td>8161.000000</td>\n",
       "      <td>8161.000000</td>\n",
       "      <td>8161.000000</td>\n",
       "      <td>8161.000000</td>\n",
       "      <td>7651.000000</td>\n",
       "    </tr>\n",
       "    <tr>\n",
       "      <th>mean</th>\n",
       "      <td>5151.867663</td>\n",
       "      <td>0.263816</td>\n",
       "      <td>1504.324648</td>\n",
       "      <td>0.171057</td>\n",
       "      <td>44.790313</td>\n",
       "      <td>0.721235</td>\n",
       "      <td>10.499286</td>\n",
       "      <td>61898.094609</td>\n",
       "      <td>154867.289723</td>\n",
       "      <td>33.485725</td>\n",
       "      <td>15709.899522</td>\n",
       "      <td>5.351305</td>\n",
       "      <td>4037.076216</td>\n",
       "      <td>0.798554</td>\n",
       "      <td>1.695503</td>\n",
       "      <td>8.329107</td>\n",
       "    </tr>\n",
       "    <tr>\n",
       "      <th>std</th>\n",
       "      <td>2978.893962</td>\n",
       "      <td>0.440728</td>\n",
       "      <td>4704.026930</td>\n",
       "      <td>0.511534</td>\n",
       "      <td>8.627589</td>\n",
       "      <td>1.116323</td>\n",
       "      <td>4.092474</td>\n",
       "      <td>47572.682808</td>\n",
       "      <td>129123.774574</td>\n",
       "      <td>15.908333</td>\n",
       "      <td>8419.734075</td>\n",
       "      <td>4.146635</td>\n",
       "      <td>8777.139104</td>\n",
       "      <td>1.158453</td>\n",
       "      <td>2.147112</td>\n",
       "      <td>5.699596</td>\n",
       "    </tr>\n",
       "    <tr>\n",
       "      <th>min</th>\n",
       "      <td>1.000000</td>\n",
       "      <td>0.000000</td>\n",
       "      <td>0.000000</td>\n",
       "      <td>0.000000</td>\n",
       "      <td>16.000000</td>\n",
       "      <td>0.000000</td>\n",
       "      <td>0.000000</td>\n",
       "      <td>0.000000</td>\n",
       "      <td>0.000000</td>\n",
       "      <td>5.000000</td>\n",
       "      <td>1500.000000</td>\n",
       "      <td>1.000000</td>\n",
       "      <td>0.000000</td>\n",
       "      <td>0.000000</td>\n",
       "      <td>0.000000</td>\n",
       "      <td>0.000000</td>\n",
       "    </tr>\n",
       "    <tr>\n",
       "      <th>25%</th>\n",
       "      <td>2559.000000</td>\n",
       "      <td>0.000000</td>\n",
       "      <td>0.000000</td>\n",
       "      <td>0.000000</td>\n",
       "      <td>39.000000</td>\n",
       "      <td>0.000000</td>\n",
       "      <td>9.000000</td>\n",
       "      <td>28097.000000</td>\n",
       "      <td>0.000000</td>\n",
       "      <td>22.000000</td>\n",
       "      <td>9280.000000</td>\n",
       "      <td>1.000000</td>\n",
       "      <td>0.000000</td>\n",
       "      <td>0.000000</td>\n",
       "      <td>0.000000</td>\n",
       "      <td>1.000000</td>\n",
       "    </tr>\n",
       "    <tr>\n",
       "      <th>50%</th>\n",
       "      <td>5133.000000</td>\n",
       "      <td>0.000000</td>\n",
       "      <td>0.000000</td>\n",
       "      <td>0.000000</td>\n",
       "      <td>45.000000</td>\n",
       "      <td>0.000000</td>\n",
       "      <td>11.000000</td>\n",
       "      <td>54028.000000</td>\n",
       "      <td>161160.000000</td>\n",
       "      <td>33.000000</td>\n",
       "      <td>14440.000000</td>\n",
       "      <td>4.000000</td>\n",
       "      <td>0.000000</td>\n",
       "      <td>0.000000</td>\n",
       "      <td>1.000000</td>\n",
       "      <td>8.000000</td>\n",
       "    </tr>\n",
       "    <tr>\n",
       "      <th>75%</th>\n",
       "      <td>7745.000000</td>\n",
       "      <td>1.000000</td>\n",
       "      <td>1036.000000</td>\n",
       "      <td>0.000000</td>\n",
       "      <td>51.000000</td>\n",
       "      <td>1.000000</td>\n",
       "      <td>13.000000</td>\n",
       "      <td>85986.000000</td>\n",
       "      <td>238724.000000</td>\n",
       "      <td>44.000000</td>\n",
       "      <td>20850.000000</td>\n",
       "      <td>7.000000</td>\n",
       "      <td>4636.000000</td>\n",
       "      <td>2.000000</td>\n",
       "      <td>3.000000</td>\n",
       "      <td>12.000000</td>\n",
       "    </tr>\n",
       "    <tr>\n",
       "      <th>max</th>\n",
       "      <td>10302.000000</td>\n",
       "      <td>1.000000</td>\n",
       "      <td>107586.136160</td>\n",
       "      <td>4.000000</td>\n",
       "      <td>81.000000</td>\n",
       "      <td>5.000000</td>\n",
       "      <td>23.000000</td>\n",
       "      <td>367030.000000</td>\n",
       "      <td>885282.000000</td>\n",
       "      <td>142.000000</td>\n",
       "      <td>69740.000000</td>\n",
       "      <td>25.000000</td>\n",
       "      <td>57037.000000</td>\n",
       "      <td>5.000000</td>\n",
       "      <td>13.000000</td>\n",
       "      <td>28.000000</td>\n",
       "    </tr>\n",
       "  </tbody>\n",
       "</table>\n",
       "</div>"
      ],
      "text/plain": [
       "              INDEX  TARGET_FLAG     TARGET_AMT     KIDSDRIV          AGE  \\\n",
       "count   8161.000000  8161.000000    8161.000000  8161.000000  8155.000000   \n",
       "mean    5151.867663     0.263816    1504.324648     0.171057    44.790313   \n",
       "std     2978.893962     0.440728    4704.026930     0.511534     8.627589   \n",
       "min        1.000000     0.000000       0.000000     0.000000    16.000000   \n",
       "25%     2559.000000     0.000000       0.000000     0.000000    39.000000   \n",
       "50%     5133.000000     0.000000       0.000000     0.000000    45.000000   \n",
       "75%     7745.000000     1.000000    1036.000000     0.000000    51.000000   \n",
       "max    10302.000000     1.000000  107586.136160     4.000000    81.000000   \n",
       "\n",
       "          HOMEKIDS          YOJ         INCOME       HOME_VAL     TRAVTIME  \\\n",
       "count  8161.000000  7707.000000    7716.000000    7697.000000  8161.000000   \n",
       "mean      0.721235    10.499286   61898.094609  154867.289723    33.485725   \n",
       "std       1.116323     4.092474   47572.682808  129123.774574    15.908333   \n",
       "min       0.000000     0.000000       0.000000       0.000000     5.000000   \n",
       "25%       0.000000     9.000000   28097.000000       0.000000    22.000000   \n",
       "50%       0.000000    11.000000   54028.000000  161160.000000    33.000000   \n",
       "75%       1.000000    13.000000   85986.000000  238724.000000    44.000000   \n",
       "max       5.000000    23.000000  367030.000000  885282.000000   142.000000   \n",
       "\n",
       "           BLUEBOOK          TIF      OLDCLAIM     CLM_FREQ      MVR_PTS  \\\n",
       "count   8161.000000  8161.000000   8161.000000  8161.000000  8161.000000   \n",
       "mean   15709.899522     5.351305   4037.076216     0.798554     1.695503   \n",
       "std     8419.734075     4.146635   8777.139104     1.158453     2.147112   \n",
       "min     1500.000000     1.000000      0.000000     0.000000     0.000000   \n",
       "25%     9280.000000     1.000000      0.000000     0.000000     0.000000   \n",
       "50%    14440.000000     4.000000      0.000000     0.000000     1.000000   \n",
       "75%    20850.000000     7.000000   4636.000000     2.000000     3.000000   \n",
       "max    69740.000000    25.000000  57037.000000     5.000000    13.000000   \n",
       "\n",
       "           CAR_AGE  \n",
       "count  7651.000000  \n",
       "mean      8.329107  \n",
       "std       5.699596  \n",
       "min       0.000000  \n",
       "25%       1.000000  \n",
       "50%       8.000000  \n",
       "75%      12.000000  \n",
       "max      28.000000  "
      ]
     },
     "metadata": {},
     "output_type": "display_data"
    },
    {
     "data": {
      "text/plain": [
       "'After Imputing'"
      ]
     },
     "metadata": {},
     "output_type": "display_data"
    },
    {
     "data": {
      "text/html": [
       "<div>\n",
       "<style scoped>\n",
       "    .dataframe tbody tr th:only-of-type {\n",
       "        vertical-align: middle;\n",
       "    }\n",
       "\n",
       "    .dataframe tbody tr th {\n",
       "        vertical-align: top;\n",
       "    }\n",
       "\n",
       "    .dataframe thead th {\n",
       "        text-align: right;\n",
       "    }\n",
       "</style>\n",
       "<table border=\"1\" class=\"dataframe\">\n",
       "  <thead>\n",
       "    <tr style=\"text-align: right;\">\n",
       "      <th></th>\n",
       "      <th>INDEX</th>\n",
       "      <th>TARGET_FLAG</th>\n",
       "      <th>TARGET_AMT</th>\n",
       "      <th>KIDSDRIV</th>\n",
       "      <th>AGE</th>\n",
       "      <th>HOMEKIDS</th>\n",
       "      <th>YOJ</th>\n",
       "      <th>INCOME</th>\n",
       "      <th>HOME_VAL</th>\n",
       "      <th>TRAVTIME</th>\n",
       "      <th>BLUEBOOK</th>\n",
       "      <th>TIF</th>\n",
       "      <th>OLDCLAIM</th>\n",
       "      <th>CLM_FREQ</th>\n",
       "      <th>MVR_PTS</th>\n",
       "      <th>CAR_AGE</th>\n",
       "    </tr>\n",
       "  </thead>\n",
       "  <tbody>\n",
       "    <tr>\n",
       "      <th>count</th>\n",
       "      <td>8161.000000</td>\n",
       "      <td>8161.000000</td>\n",
       "      <td>8161.000000</td>\n",
       "      <td>8161.000000</td>\n",
       "      <td>8161.000000</td>\n",
       "      <td>8161.000000</td>\n",
       "      <td>8161.000000</td>\n",
       "      <td>8161.000000</td>\n",
       "      <td>8161.000000</td>\n",
       "      <td>8161.000000</td>\n",
       "      <td>8161.000000</td>\n",
       "      <td>8161.000000</td>\n",
       "      <td>8161.000000</td>\n",
       "      <td>8161.000000</td>\n",
       "      <td>8161.000000</td>\n",
       "      <td>8161.000000</td>\n",
       "    </tr>\n",
       "    <tr>\n",
       "      <th>mean</th>\n",
       "      <td>5151.867663</td>\n",
       "      <td>0.263816</td>\n",
       "      <td>1504.324648</td>\n",
       "      <td>0.171057</td>\n",
       "      <td>44.782870</td>\n",
       "      <td>0.721235</td>\n",
       "      <td>10.501042</td>\n",
       "      <td>61764.458890</td>\n",
       "      <td>154883.345423</td>\n",
       "      <td>33.485725</td>\n",
       "      <td>15709.899522</td>\n",
       "      <td>5.351305</td>\n",
       "      <td>4037.076216</td>\n",
       "      <td>0.798554</td>\n",
       "      <td>1.695503</td>\n",
       "      <td>8.333292</td>\n",
       "    </tr>\n",
       "    <tr>\n",
       "      <th>std</th>\n",
       "      <td>2978.893962</td>\n",
       "      <td>0.440728</td>\n",
       "      <td>4704.026930</td>\n",
       "      <td>0.511534</td>\n",
       "      <td>8.629757</td>\n",
       "      <td>1.116323</td>\n",
       "      <td>3.992797</td>\n",
       "      <td>46775.917858</td>\n",
       "      <td>126812.134209</td>\n",
       "      <td>15.908333</td>\n",
       "      <td>8419.734075</td>\n",
       "      <td>4.146635</td>\n",
       "      <td>8777.139104</td>\n",
       "      <td>1.158453</td>\n",
       "      <td>2.147112</td>\n",
       "      <td>5.568485</td>\n",
       "    </tr>\n",
       "    <tr>\n",
       "      <th>min</th>\n",
       "      <td>1.000000</td>\n",
       "      <td>0.000000</td>\n",
       "      <td>0.000000</td>\n",
       "      <td>0.000000</td>\n",
       "      <td>16.000000</td>\n",
       "      <td>0.000000</td>\n",
       "      <td>0.000000</td>\n",
       "      <td>0.000000</td>\n",
       "      <td>0.000000</td>\n",
       "      <td>5.000000</td>\n",
       "      <td>1500.000000</td>\n",
       "      <td>1.000000</td>\n",
       "      <td>0.000000</td>\n",
       "      <td>0.000000</td>\n",
       "      <td>0.000000</td>\n",
       "      <td>0.000000</td>\n",
       "    </tr>\n",
       "    <tr>\n",
       "      <th>25%</th>\n",
       "      <td>2559.000000</td>\n",
       "      <td>0.000000</td>\n",
       "      <td>0.000000</td>\n",
       "      <td>0.000000</td>\n",
       "      <td>39.000000</td>\n",
       "      <td>0.000000</td>\n",
       "      <td>9.000000</td>\n",
       "      <td>28654.000000</td>\n",
       "      <td>0.000000</td>\n",
       "      <td>22.000000</td>\n",
       "      <td>9280.000000</td>\n",
       "      <td>1.000000</td>\n",
       "      <td>0.000000</td>\n",
       "      <td>0.000000</td>\n",
       "      <td>0.000000</td>\n",
       "      <td>4.000000</td>\n",
       "    </tr>\n",
       "    <tr>\n",
       "      <th>50%</th>\n",
       "      <td>5133.000000</td>\n",
       "      <td>0.000000</td>\n",
       "      <td>0.000000</td>\n",
       "      <td>0.000000</td>\n",
       "      <td>45.000000</td>\n",
       "      <td>0.000000</td>\n",
       "      <td>11.000000</td>\n",
       "      <td>54113.000000</td>\n",
       "      <td>159568.000000</td>\n",
       "      <td>33.000000</td>\n",
       "      <td>14440.000000</td>\n",
       "      <td>4.000000</td>\n",
       "      <td>0.000000</td>\n",
       "      <td>0.000000</td>\n",
       "      <td>1.000000</td>\n",
       "      <td>8.000000</td>\n",
       "    </tr>\n",
       "    <tr>\n",
       "      <th>75%</th>\n",
       "      <td>7745.000000</td>\n",
       "      <td>1.000000</td>\n",
       "      <td>1036.000000</td>\n",
       "      <td>0.000000</td>\n",
       "      <td>51.000000</td>\n",
       "      <td>1.000000</td>\n",
       "      <td>13.000000</td>\n",
       "      <td>85342.000000</td>\n",
       "      <td>236005.000000</td>\n",
       "      <td>44.000000</td>\n",
       "      <td>20850.000000</td>\n",
       "      <td>7.000000</td>\n",
       "      <td>4636.000000</td>\n",
       "      <td>2.000000</td>\n",
       "      <td>3.000000</td>\n",
       "      <td>12.000000</td>\n",
       "    </tr>\n",
       "    <tr>\n",
       "      <th>max</th>\n",
       "      <td>10302.000000</td>\n",
       "      <td>1.000000</td>\n",
       "      <td>107586.136160</td>\n",
       "      <td>4.000000</td>\n",
       "      <td>81.000000</td>\n",
       "      <td>5.000000</td>\n",
       "      <td>23.000000</td>\n",
       "      <td>367030.000000</td>\n",
       "      <td>885282.000000</td>\n",
       "      <td>142.000000</td>\n",
       "      <td>69740.000000</td>\n",
       "      <td>25.000000</td>\n",
       "      <td>57037.000000</td>\n",
       "      <td>5.000000</td>\n",
       "      <td>13.000000</td>\n",
       "      <td>28.000000</td>\n",
       "    </tr>\n",
       "  </tbody>\n",
       "</table>\n",
       "</div>"
      ],
      "text/plain": [
       "              INDEX  TARGET_FLAG     TARGET_AMT     KIDSDRIV          AGE  \\\n",
       "count   8161.000000  8161.000000    8161.000000  8161.000000  8161.000000   \n",
       "mean    5151.867663     0.263816    1504.324648     0.171057    44.782870   \n",
       "std     2978.893962     0.440728    4704.026930     0.511534     8.629757   \n",
       "min        1.000000     0.000000       0.000000     0.000000    16.000000   \n",
       "25%     2559.000000     0.000000       0.000000     0.000000    39.000000   \n",
       "50%     5133.000000     0.000000       0.000000     0.000000    45.000000   \n",
       "75%     7745.000000     1.000000    1036.000000     0.000000    51.000000   \n",
       "max    10302.000000     1.000000  107586.136160     4.000000    81.000000   \n",
       "\n",
       "          HOMEKIDS          YOJ         INCOME       HOME_VAL     TRAVTIME  \\\n",
       "count  8161.000000  8161.000000    8161.000000    8161.000000  8161.000000   \n",
       "mean      0.721235    10.501042   61764.458890  154883.345423    33.485725   \n",
       "std       1.116323     3.992797   46775.917858  126812.134209    15.908333   \n",
       "min       0.000000     0.000000       0.000000       0.000000     5.000000   \n",
       "25%       0.000000     9.000000   28654.000000       0.000000    22.000000   \n",
       "50%       0.000000    11.000000   54113.000000  159568.000000    33.000000   \n",
       "75%       1.000000    13.000000   85342.000000  236005.000000    44.000000   \n",
       "max       5.000000    23.000000  367030.000000  885282.000000   142.000000   \n",
       "\n",
       "           BLUEBOOK          TIF      OLDCLAIM     CLM_FREQ      MVR_PTS  \\\n",
       "count   8161.000000  8161.000000   8161.000000  8161.000000  8161.000000   \n",
       "mean   15709.899522     5.351305   4037.076216     0.798554     1.695503   \n",
       "std     8419.734075     4.146635   8777.139104     1.158453     2.147112   \n",
       "min     1500.000000     1.000000      0.000000     0.000000     0.000000   \n",
       "25%     9280.000000     1.000000      0.000000     0.000000     0.000000   \n",
       "50%    14440.000000     4.000000      0.000000     0.000000     1.000000   \n",
       "75%    20850.000000     7.000000   4636.000000     2.000000     3.000000   \n",
       "max    69740.000000    25.000000  57037.000000     5.000000    13.000000   \n",
       "\n",
       "           CAR_AGE  \n",
       "count  8161.000000  \n",
       "mean      8.333292  \n",
       "std       5.568485  \n",
       "min       0.000000  \n",
       "25%       4.000000  \n",
       "50%       8.000000  \n",
       "75%      12.000000  \n",
       "max      28.000000  "
      ]
     },
     "metadata": {},
     "output_type": "display_data"
    }
   ],
   "source": [
    "# Checking DataFrame values before and after imputation\n",
    "\n",
    "display('Before Imputing', df_train.describe(), 'After Imputing', df_train_imputed.describe())"
   ]
  },
  {
   "cell_type": "markdown",
   "metadata": {},
   "source": [
    "We can see that after using the MICE Imputation method, the Mean values across imputed columns has not changed drastically. This is just to sanity check the values.\n",
    "\n",
    "\n",
    "We do a similar imputation technique on the Test Data."
   ]
  },
  {
   "cell_type": "code",
   "execution_count": 29,
   "metadata": {},
   "outputs": [
    {
     "name": "stdout",
     "output_type": "stream",
     "text": [
      "Percentage of Missing Values in Test after Imputation :\n",
      "\n",
      "AGE         0.0\n",
      "YOJ         0.0\n",
      "INCOME      0.0\n",
      "HOME_VAL    0.0\n",
      "JOB         0.0\n",
      "CAR_AGE     0.0\n",
      "dtype: float64\n"
     ]
    }
   ],
   "source": [
    "mice_imputer_test = MiceImputer(df_test_copy[continuous_cols+categorical_cols], categorical_cols)\n",
    "mice_imputer_test.mice_impute()\n",
    "\n",
    "df_test_imputed = df_test_copy.copy()\n",
    "df_test_imputed[continuous_cols+categorical_cols] = mice_imputer_test.df[continuous_cols+categorical_cols]\n",
    "\n",
    "print(f'Percentage of Missing Values in Test after Imputation :\\n\\n{df_train_imputed[cols_with_nulls].isna().sum()/df_train_imputed.shape[0]*100.0}')"
   ]
  },
  {
   "cell_type": "markdown",
   "metadata": {},
   "source": [
    "## Feature Creation"
   ]
  },
  {
   "cell_type": "code",
   "execution_count": 30,
   "metadata": {},
   "outputs": [],
   "source": [
    "def create_features(df):\n",
    "    def age_grouping(x):\n",
    "        if x<40:\n",
    "            return '20-40'\n",
    "        if x<60:\n",
    "            return '41-60'\n",
    "        return '60+'\n",
    "\n",
    "    def risk_grouping(x):\n",
    "        if x<4:\n",
    "            return 'Low Risk'\n",
    "        if x<6:\n",
    "            return 'Minor Risk'\n",
    "        if x<8:\n",
    "            return 'Border Line Risk'\n",
    "        if x<10:\n",
    "            return 'Medium Risk'\n",
    "        return 'High Risk'\n",
    "\n",
    "    # age binning\n",
    "    df['AGE_GROUPED'] = df['AGE'].apply(lambda x : age_grouping(x))\n",
    "\n",
    "    # MVR risk grouping\n",
    "    df['MVR_GROUPED'] = df['MVR_PTS'].apply(lambda x: risk_grouping(x))\n",
    "    \n",
    "    # Group Jobs as professional/non-professional\n",
    "    df['PROFESSIONAL_BIN'] = np.where(df['JOB'].str.lower().str.strip()\n",
    "                                  .isin(['professional', 'doctor', 'lawyer', 'manager']), 1, 0)\n",
    "    \n",
    "    # Group Education as highly educated/not\n",
    "    df['HIGHLY_EDUCATED_BIN'] = np.where(df['EDUCATION'].str.lower().str.strip()\n",
    "                                  .isin(['phd', 'masters', 'bachelors']), 1, 0)\n",
    "    \n",
    "    new_cols = ['AGE_GROUPED', 'MVR_GROUPED', 'PROFESSIONAL_BIN', 'HIGHLY_EDUCATED_BIN']\n",
    "    \n",
    "    # apply binarization\n",
    "    cols_to_binary = ['KIDSDRIV','HOMEKIDS', 'HOME_VAL', 'OLDCLAIM',]\n",
    "\n",
    "    for col, col_bin in zip(cols_to_binary, [c + '_BIN' for c in cols_to_binary]):\n",
    "        df[col_bin] = np.where(df[col]==0, 0, 1)\n",
    "        \n",
    "    \n",
    "    new_cols += [c + '_BIN' for c in cols_to_binary]\n",
    "    \n",
    "    return df, new_cols"
   ]
  },
  {
   "cell_type": "code",
   "execution_count": 31,
   "metadata": {},
   "outputs": [
    {
     "name": "stdout",
     "output_type": "stream",
     "text": [
      "Created 8 new features ... ['AGE_GROUPED', 'MVR_GROUPED', 'PROFESSIONAL_BIN', 'HIGHLY_EDUCATED_BIN', 'KIDSDRIV_BIN', 'HOMEKIDS_BIN', 'HOME_VAL_BIN', 'OLDCLAIM_BIN']\n"
     ]
    }
   ],
   "source": [
    "df_train_imputed, new_features = create_features(df_train_imputed)\n",
    "df_test_imputed, _ = create_features(df_test_imputed)\n",
    "\n",
    "categorical_cols += new_features\n",
    "\n",
    "print(f'Created {len(new_features)} new features ...', new_features)"
   ]
  },
  {
   "cell_type": "markdown",
   "metadata": {},
   "source": [
    "## Feature Transformation"
   ]
  },
  {
   "cell_type": "code",
   "execution_count": 32,
   "metadata": {},
   "outputs": [],
   "source": [
    "from sklearn.preprocessing import MinMaxScaler, StandardScaler, OrdinalEncoder, LabelEncoder\n",
    "from collections import defaultdict\n",
    "\n",
    "# this dictionary keeps all categorical encoders. Use it for inverse transformations later on\n",
    "encoder_dict = defaultdict(LabelEncoder)\n",
    "\n",
    "def transform_continuous_columns(df, cols):\n",
    "    features = df[cols]\n",
    "    scaler = MinMaxScaler().fit(features.values)\n",
    "    features = scaler.transform(features.values)\n",
    "    df[cols] = features\n",
    "    return df\n",
    "\n",
    "def fit_categorical_transformer(df, cols):\n",
    "#     df_joined = learn_df.append(test_df, ignore_index=True)\n",
    "    for col in cols:\n",
    "        encoder_dict[col].fit(df[col])\n",
    "\n",
    "def transform_categorical_columns(df, cols):\n",
    "    # Encoding the variable\n",
    "    df[cols] = (df[cols].apply(lambda x: encoder_dict[x.name].transform(x)))\n",
    "    return df\n",
    "\n",
    "def inverse_transform_categorical(df, cols):\n",
    "    df[cols] = (df[cols].apply(lambda x: encoder_dict[x.name].inverse_transform(x)))\n",
    "    return df"
   ]
  },
  {
   "cell_type": "code",
   "execution_count": 33,
   "metadata": {},
   "outputs": [],
   "source": [
    "# We do a Label encoding and first fit the encoder on all the columns\n",
    "# It is enough to fit on training data because we have checked there are no unseen values in Test Data\n",
    "fit_categorical_transformer(df_train_imputed, categorical_cols)"
   ]
  },
  {
   "cell_type": "code",
   "execution_count": 34,
   "metadata": {},
   "outputs": [],
   "source": [
    "# We then transform the columns \n",
    "df_train_transformed = transform_categorical_columns(df_train_imputed.copy(), categorical_cols)\n",
    "df_test_transformed = transform_categorical_columns(df_test_imputed.copy(), categorical_cols)"
   ]
  },
  {
   "cell_type": "code",
   "execution_count": 35,
   "metadata": {},
   "outputs": [],
   "source": [
    "# we log transform currency columns to account for skewness\n",
    "df_train_transformed[dollar_cols] = df_train_transformed[dollar_cols].apply(lambda x: np.log10(x+1))\n",
    "df_test_transformed[dollar_cols] = df_test_transformed[dollar_cols].apply(lambda x: np.log10(x+1))"
   ]
  },
  {
   "cell_type": "code",
   "execution_count": 36,
   "metadata": {},
   "outputs": [
    {
     "data": {
      "text/plain": [
       "31"
      ]
     },
     "execution_count": 36,
     "metadata": {},
     "output_type": "execute_result"
    }
   ],
   "source": [
    "len(categorical_cols+continuous_cols)"
   ]
  },
  {
   "cell_type": "code",
   "execution_count": 37,
   "metadata": {},
   "outputs": [
    {
     "data": {
      "text/plain": [
       "34"
      ]
     },
     "execution_count": 37,
     "metadata": {},
     "output_type": "execute_result"
    }
   ],
   "source": [
    "len(df_train_transformed.columns)\n",
    "\n",
    "## INDEX, TARGET_FLAG, TARGET_AMT are the extra columns. So we are good here :)"
   ]
  },
  {
   "cell_type": "markdown",
   "metadata": {},
   "source": [
    "# Modelling"
   ]
  },
  {
   "cell_type": "code",
   "execution_count": 38,
   "metadata": {},
   "outputs": [],
   "source": [
    "X = pd.DataFrame(data=df_train_transformed, columns = categorical_cols+continuous_cols,)\n",
    "y = df_train_transformed[target]"
   ]
  },
  {
   "cell_type": "code",
   "execution_count": 39,
   "metadata": {},
   "outputs": [],
   "source": [
    "from sklearn.model_selection import cross_validate, train_test_split\n",
    "from sklearn.model_selection import GridSearchCV, RepeatedStratifiedKFold, StratifiedKFold, cross_val_score \n",
    "\n",
    "from sklearn.metrics import accuracy_score, classification_report, confusion_matrix\n",
    "from sklearn.metrics import roc_curve, auc, precision_recall_curve, plot_roc_curve\n",
    "import shap"
   ]
  },
  {
   "cell_type": "code",
   "execution_count": 40,
   "metadata": {},
   "outputs": [],
   "source": [
    "X_train, X_val, y_train, y_val = train_test_split(X, y, test_size=0.20, random_state=42)"
   ]
  },
  {
   "cell_type": "code",
   "execution_count": 41,
   "metadata": {},
   "outputs": [
    {
     "name": "stdout",
     "output_type": "stream",
     "text": [
      "              precision    recall  f1-score   support\n",
      "\n",
      "           0       0.73      1.00      0.84      1189\n",
      "           1       0.00      0.00      0.00       444\n",
      "\n",
      "    accuracy                           0.73      1633\n",
      "   macro avg       0.36      0.50      0.42      1633\n",
      "weighted avg       0.53      0.73      0.61      1633\n",
      "\n"
     ]
    }
   ],
   "source": [
    "y_baseline = np.zeros(len(y_val))\n",
    "classification_report_baseline = classification_report(y_val, y_baseline)\n",
    "print(classification_report_baseline)"
   ]
  },
  {
   "cell_type": "code",
   "execution_count": 42,
   "metadata": {},
   "outputs": [
    {
     "data": {
      "text/plain": [
       "0.7281077770973668"
      ]
     },
     "execution_count": 42,
     "metadata": {},
     "output_type": "execute_result"
    }
   ],
   "source": [
    "accuracy_score(y_val, y_baseline)"
   ]
  },
  {
   "cell_type": "markdown",
   "metadata": {},
   "source": [
    "### Comments\n",
    "\n",
    "I created a baseline naive model with all predictions as 0 to get an idea of how the metrics are and to compare performance with other algorithms. We can get 72% accuracy by just predicting 0s\n",
    "\n",
    "\n",
    "So we look at the following metrics for comparison :\n",
    "\n",
    "1. AUC of ROC\n",
    "2. F1 score"
   ]
  },
  {
   "cell_type": "markdown",
   "metadata": {},
   "source": [
    "# Model Comparison"
   ]
  },
  {
   "cell_type": "code",
   "execution_count": 43,
   "metadata": {},
   "outputs": [],
   "source": [
    "from sklearn.linear_model import LogisticRegression\n",
    "from sklearn.ensemble import RandomForestClassifier\n",
    "import xgboost as xgb"
   ]
  },
  {
   "cell_type": "markdown",
   "metadata": {},
   "source": [
    "I wish to compare 3 models here :\n",
    "\n",
    "1. Logistic Regression\n",
    "2. Random Forest\n",
    "3. XGBoost"
   ]
  },
  {
   "cell_type": "code",
   "execution_count": 44,
   "metadata": {},
   "outputs": [],
   "source": [
    "# all models with sklearn wrappers Logistic Regression\n",
    "models = [LogisticRegression(), RandomForestClassifier(), xgb.XGBClassifier()]\n",
    "model_names = ['LR','RF','XGB']"
   ]
  },
  {
   "cell_type": "code",
   "execution_count": 45,
   "metadata": {},
   "outputs": [],
   "source": [
    "def compare_models(X_train, y_train, X_val, y_val, models):\n",
    "    fprs = []\n",
    "    tprs = []\n",
    "    roc_aucs = []\n",
    "    classification_reports = []\n",
    "    \n",
    "    for model in models:\n",
    "        print(f'Fitting {model} model ...')\n",
    "        model.fit(X_train, y_train)\n",
    "        # predict probabilities\n",
    "        probs = model.predict_proba(X_val)\n",
    "        # predict classes\n",
    "        preds_target = model.predict(X_val)\n",
    "\n",
    "        fpr, tpr, threshold = roc_curve(y_val, probs[:,1])\n",
    "        classification_reports.append(classification_report(y_val, preds_target))\n",
    "\n",
    "        precision, recall, pr_threshold = precision_recall_curve(y_val, probs[:,1])\n",
    "        \n",
    "        fprs.append(fpr)\n",
    "        tprs.append(tpr)\n",
    "        roc_aucs.append(auc(fpr,tpr))\n",
    "    return models, fprs, tprs, roc_aucs, classification_reports"
   ]
  },
  {
   "cell_type": "code",
   "execution_count": 46,
   "metadata": {},
   "outputs": [
    {
     "name": "stdout",
     "output_type": "stream",
     "text": [
      "Fitting LogisticRegression() model ...\n",
      "Fitting RandomForestClassifier() model ...\n",
      "Fitting XGBClassifier() model ...\n"
     ]
    },
    {
     "data": {
      "image/png": "[encoded data removed]",
      "text/plain": [
       "<Figure size 504x360 with 1 Axes>"
      ]
     },
     "metadata": {
      "needs_background": "light"
     },
     "output_type": "display_data"
    }
   ],
   "source": [
    "models, fprs, tprs, roc_aucs, classification_reports = compare_models(X_train, y_train, X_val, y_val, models)\n",
    "\n",
    "plt.figure(figsize=(7,5))\n",
    "plt.title('Receiver Operating Characteristic')\n",
    "\n",
    "for fpr, tpr, roc_auc, model in zip(fprs, tprs, roc_aucs, model_names):\n",
    "    plt.plot(fpr, tpr, label = model+' AUC = %0.2f' % roc_auc)\n",
    "    \n",
    "plt.legend(loc = 'lower right')\n",
    "plt.plot([0, 1], [0, 1],'r--')\n",
    "plt.xlim([0, 1])\n",
    "plt.ylim([0, 1])\n",
    "plt.ylabel('True Positive Rate')\n",
    "plt.xlabel('False Positive Rate')\n",
    "plt.show()"
   ]
  },
  {
   "cell_type": "markdown",
   "metadata": {},
   "source": [
    "### Observations\n",
    "\n",
    "1. We plot the ROC curves for different algorithms using default parameters.\n",
    "\n",
    "\n",
    "2. We cam see that using default parameters, XGBoost has the highest AUC score so we decide to use this model going further."
   ]
  },
  {
   "cell_type": "markdown",
   "metadata": {},
   "source": [
    "# Paramater Tuning & Model Validation\n",
    "\n",
    "Using the XGBoost algorithm, we perform cross validation on the training data set and tune parameters via Grid Search.\n",
    "\n",
    "\n",
    "The parameters we plan to tune are :\n",
    "    - min_child_weight\n",
    "    - gamme\n",
    "    - subsample\n",
    "    - colsample_bytree\n",
    "    - max_depth"
   ]
  },
  {
   "cell_type": "code",
   "execution_count": 115,
   "metadata": {},
   "outputs": [],
   "source": [
    "# A parameter grid for XGBoost\n",
    "params = {\n",
    "    'n_estimators': [100,300,600],\n",
    "    'learning_rate': [0.1, 0.01],\n",
    "    'min_child_weight': [5, 10],\n",
    "    'gamma': [2, 5],\n",
    "    'colsample_bytree': [0.6, 0.8],\n",
    "    'max_depth': [3, 5]\n",
    "        }"
   ]
  },
  {
   "cell_type": "code",
   "execution_count": 124,
   "metadata": {},
   "outputs": [],
   "source": [
    "xgb_classifier = xgb.XGBClassifier(objective='binary:logistic',\n",
    "                                   silent=True, \n",
    "                                   nthread=1)"
   ]
  },
  {
   "cell_type": "code",
   "execution_count": 125,
   "metadata": {},
   "outputs": [
    {
     "name": "stdout",
     "output_type": "stream",
     "text": [
      "Fitting 5 folds for each of 48 candidates, totalling 240 fits\n"
     ]
    },
    {
     "name": "stderr",
     "output_type": "stream",
     "text": [
      "[Parallel(n_jobs=-1)]: Using backend LokyBackend with 4 concurrent workers.\n",
      "[Parallel(n_jobs=-1)]: Done  24 tasks      | elapsed:   51.2s\n",
      "[Parallel(n_jobs=-1)]: Done 120 tasks      | elapsed:  3.9min\n",
      "[Parallel(n_jobs=-1)]: Done 240 out of 240 | elapsed:  8.5min finished\n"
     ]
    },
    {
     "data": {
      "text/plain": [
       "GridSearchCV(cv=<generator object _BaseKFold.split at 0x7fe1117cfa50>,\n",
       "             estimator=XGBClassifier(nthread=1, silent=True), n_jobs=-1,\n",
       "             param_grid={'colsample_bytree': [0.6, 0.8], 'gamma': [2, 5],\n",
       "                         'learning_rate': [0.1, 0.01], 'max_depth': [5],\n",
       "                         'min_child_weight': [5, 10],\n",
       "                         'n_estimators': [100, 300, 600]},\n",
       "             scoring='roc_auc', verbose=3)"
      ]
     },
     "execution_count": 125,
     "metadata": {},
     "output_type": "execute_result"
    }
   ],
   "source": [
    "folds = 5\n",
    "\n",
    "strat_cv = StratifiedKFold(n_splits=folds, shuffle = True, random_state = 42)\n",
    "\n",
    "grid_search = GridSearchCV(xgb_classifier, param_grid=params,\n",
    "                                   scoring='roc_auc', \n",
    "                                   n_jobs=-1, \n",
    "                                   cv=strat_cv.split(X,y), \n",
    "                                   verbose=3,)\n",
    "\n",
    "grid_search.fit(X, y)"
   ]
  },
  {
   "cell_type": "code",
   "execution_count": 126,
   "metadata": {},
   "outputs": [
    {
     "data": {
      "text/plain": [
       "{'colsample_bytree': 0.8,\n",
       " 'gamma': 5,\n",
       " 'learning_rate': 0.1,\n",
       " 'max_depth': 5,\n",
       " 'min_child_weight': 10,\n",
       " 'n_estimators': 600}"
      ]
     },
     "execution_count": 126,
     "metadata": {},
     "output_type": "execute_result"
    }
   ],
   "source": [
    "grid_search.best_params_"
   ]
  },
  {
   "cell_type": "code",
   "execution_count": 49,
   "metadata": {},
   "outputs": [],
   "source": [
    "best_params = {'colsample_bytree': 0.8,\n",
    " 'gamma': 5,\n",
    " 'learning_rate': 0.1,\n",
    " 'max_depth': 5,\n",
    " 'min_child_weight': 10,\n",
    " 'n_estimators': 600}\n",
    "\n",
    "best_params = grid_search.best_params_"
   ]
  },
  {
   "cell_type": "code",
   "execution_count": 131,
   "metadata": {},
   "outputs": [],
   "source": [
    "# Run classifier with cross-validation and plot ROC curves\n",
    "cv = StratifiedKFold(n_splits=5)\n",
    "\n",
    "model = xgb.XGBClassifier(params=best_params, silent=True)\n",
    "\n",
    "cv_results = cross_validate(model, X, y, cv=cv, scoring=['roc_auc', 'accuracy', 'f1'])"
   ]
  },
  {
   "cell_type": "code",
   "execution_count": 132,
   "metadata": {},
   "outputs": [
    {
     "data": {
      "text/plain": [
       "{'fit_time': array([1.25413299, 1.22397804, 1.37660336, 1.29296994, 1.25098133]),\n",
       " 'score_time': array([0.01708317, 0.01864767, 0.02222085, 0.01624608, 0.02041984]),\n",
       " 'test_roc_auc': array([0.82015859, 0.8314708 , 0.80367991, 0.83535762, 0.81173655]),\n",
       " 'test_accuracy': array([0.79424372, 0.81066176, 0.78002451, 0.79534314, 0.77696078]),\n",
       " 'test_f1': array([0.53203343, 0.57142857, 0.47591241, 0.50297619, 0.47398844])}"
      ]
     },
     "execution_count": 132,
     "metadata": {},
     "output_type": "execute_result"
    }
   ],
   "source": [
    "cv_results"
   ]
  },
  {
   "cell_type": "markdown",
   "metadata": {},
   "source": [
    "We observe that the mean scores for CV are almost around the same value so we can say there model isn't Overfitting too much. Though we can tune regularizaiton parameters more.\n",
    "\n",
    "\n",
    "- Mean ROCAUC = ~0.82"
   ]
  },
  {
   "cell_type": "markdown",
   "metadata": {},
   "source": [
    "# Prediction on Test Data"
   ]
  },
  {
   "cell_type": "code",
   "execution_count": 47,
   "metadata": {},
   "outputs": [],
   "source": [
    "X_test = pd.DataFrame(data=df_test_transformed, columns = categorical_cols+continuous_cols,)\n",
    "\n",
    "# All the values of TARGET_FLAG are Nans\n",
    "y_test = pd.DataFrame(data=df_test_transformed, columns = ['INDEX', target],)"
   ]
  },
  {
   "cell_type": "code",
   "execution_count": 50,
   "metadata": {},
   "outputs": [
    {
     "data": {
      "text/plain": [
       "XGBClassifier(params={'colsample_bytree': 0.8, 'gamma': 5, 'learning_rate': 0.1,\n",
       "                      'max_depth': 5, 'min_child_weight': 10,\n",
       "                      'n_estimators': 600},\n",
       "              silent=True)"
      ]
     },
     "execution_count": 50,
     "metadata": {},
     "output_type": "execute_result"
    }
   ],
   "source": [
    "# Initialize XGBoost model with best parameters and fit on entire training data\n",
    "model_xgb = xgb.XGBClassifier(params=best_params, silent=True)\n",
    "model_xgb.fit(X, y)"
   ]
  },
  {
   "cell_type": "code",
   "execution_count": 51,
   "metadata": {},
   "outputs": [],
   "source": [
    "# Predict probabilities as well as raw values for TARGET_FLAG\n",
    "preds_proba = model_xgb.predict_proba(X_test)\n",
    "preds_y = model_xgb.predict(X_test)"
   ]
  },
  {
   "cell_type": "code",
   "execution_count": 52,
   "metadata": {},
   "outputs": [],
   "source": [
    "# Assign predictions to the right index and write to .csv file\n",
    "y_test[target] = preds_y\n",
    "y_test.to_csv('predicted_TARGET_FLAG.csv', index=False)"
   ]
  },
  {
   "cell_type": "markdown",
   "metadata": {},
   "source": [
    "# Model Interpretation"
   ]
  },
  {
   "cell_type": "code",
   "execution_count": 53,
   "metadata": {},
   "outputs": [
    {
     "data": {
      "text/html": [
       "<div>\n",
       "<style scoped>\n",
       "    .dataframe tbody tr th:only-of-type {\n",
       "        vertical-align: middle;\n",
       "    }\n",
       "\n",
       "    .dataframe tbody tr th {\n",
       "        vertical-align: top;\n",
       "    }\n",
       "\n",
       "    .dataframe thead th {\n",
       "        text-align: right;\n",
       "    }\n",
       "</style>\n",
       "<table border=\"1\" class=\"dataframe\">\n",
       "  <thead>\n",
       "    <tr style=\"text-align: right;\">\n",
       "      <th></th>\n",
       "      <th>feature</th>\n",
       "      <th>importance</th>\n",
       "    </tr>\n",
       "  </thead>\n",
       "  <tbody>\n",
       "    <tr>\n",
       "      <th>12</th>\n",
       "      <td>PROFESSIONAL_BIN</td>\n",
       "      <td>0.153863</td>\n",
       "    </tr>\n",
       "    <tr>\n",
       "      <th>9</th>\n",
       "      <td>URBANICITY</td>\n",
       "      <td>0.081344</td>\n",
       "    </tr>\n",
       "    <tr>\n",
       "      <th>30</th>\n",
       "      <td>OLDCLAIM</td>\n",
       "      <td>0.067071</td>\n",
       "    </tr>\n",
       "    <tr>\n",
       "      <th>13</th>\n",
       "      <td>HIGHLY_EDUCATED_BIN</td>\n",
       "      <td>0.064709</td>\n",
       "    </tr>\n",
       "    <tr>\n",
       "      <th>8</th>\n",
       "      <td>REVOKED</td>\n",
       "      <td>0.057228</td>\n",
       "    </tr>\n",
       "    <tr>\n",
       "      <th>0</th>\n",
       "      <td>PARENT1</td>\n",
       "      <td>0.051549</td>\n",
       "    </tr>\n",
       "    <tr>\n",
       "      <th>6</th>\n",
       "      <td>CAR_TYPE</td>\n",
       "      <td>0.048400</td>\n",
       "    </tr>\n",
       "    <tr>\n",
       "      <th>14</th>\n",
       "      <td>KIDSDRIV_BIN</td>\n",
       "      <td>0.045833</td>\n",
       "    </tr>\n",
       "    <tr>\n",
       "      <th>5</th>\n",
       "      <td>CAR_USE</td>\n",
       "      <td>0.044354</td>\n",
       "    </tr>\n",
       "    <tr>\n",
       "      <th>25</th>\n",
       "      <td>MVR_PTS</td>\n",
       "      <td>0.042966</td>\n",
       "    </tr>\n",
       "    <tr>\n",
       "      <th>28</th>\n",
       "      <td>HOME_VAL</td>\n",
       "      <td>0.039394</td>\n",
       "    </tr>\n",
       "    <tr>\n",
       "      <th>1</th>\n",
       "      <td>MSTATUS</td>\n",
       "      <td>0.033006</td>\n",
       "    </tr>\n",
       "    <tr>\n",
       "      <th>15</th>\n",
       "      <td>HOMEKIDS_BIN</td>\n",
       "      <td>0.026815</td>\n",
       "    </tr>\n",
       "    <tr>\n",
       "      <th>27</th>\n",
       "      <td>INCOME</td>\n",
       "      <td>0.025545</td>\n",
       "    </tr>\n",
       "    <tr>\n",
       "      <th>23</th>\n",
       "      <td>TIF</td>\n",
       "      <td>0.024761</td>\n",
       "    </tr>\n",
       "    <tr>\n",
       "      <th>10</th>\n",
       "      <td>AGE_GROUPED</td>\n",
       "      <td>0.024616</td>\n",
       "    </tr>\n",
       "    <tr>\n",
       "      <th>26</th>\n",
       "      <td>CAR_AGE</td>\n",
       "      <td>0.022418</td>\n",
       "    </tr>\n",
       "    <tr>\n",
       "      <th>22</th>\n",
       "      <td>TRAVTIME</td>\n",
       "      <td>0.020461</td>\n",
       "    </tr>\n",
       "    <tr>\n",
       "      <th>18</th>\n",
       "      <td>AGE</td>\n",
       "      <td>0.020053</td>\n",
       "    </tr>\n",
       "    <tr>\n",
       "      <th>29</th>\n",
       "      <td>BLUEBOOK</td>\n",
       "      <td>0.018900</td>\n",
       "    </tr>\n",
       "    <tr>\n",
       "      <th>20</th>\n",
       "      <td>HOMEKIDS</td>\n",
       "      <td>0.017593</td>\n",
       "    </tr>\n",
       "    <tr>\n",
       "      <th>4</th>\n",
       "      <td>JOB</td>\n",
       "      <td>0.012375</td>\n",
       "    </tr>\n",
       "    <tr>\n",
       "      <th>19</th>\n",
       "      <td>KIDSDRIV</td>\n",
       "      <td>0.011085</td>\n",
       "    </tr>\n",
       "    <tr>\n",
       "      <th>3</th>\n",
       "      <td>EDUCATION</td>\n",
       "      <td>0.010152</td>\n",
       "    </tr>\n",
       "    <tr>\n",
       "      <th>21</th>\n",
       "      <td>YOJ</td>\n",
       "      <td>0.009386</td>\n",
       "    </tr>\n",
       "    <tr>\n",
       "      <th>7</th>\n",
       "      <td>RED_CAR</td>\n",
       "      <td>0.008907</td>\n",
       "    </tr>\n",
       "    <tr>\n",
       "      <th>11</th>\n",
       "      <td>MVR_GROUPED</td>\n",
       "      <td>0.008871</td>\n",
       "    </tr>\n",
       "    <tr>\n",
       "      <th>24</th>\n",
       "      <td>CLM_FREQ</td>\n",
       "      <td>0.008345</td>\n",
       "    </tr>\n",
       "    <tr>\n",
       "      <th>17</th>\n",
       "      <td>OLDCLAIM_BIN</td>\n",
       "      <td>0.000000</td>\n",
       "    </tr>\n",
       "    <tr>\n",
       "      <th>16</th>\n",
       "      <td>HOME_VAL_BIN</td>\n",
       "      <td>0.000000</td>\n",
       "    </tr>\n",
       "    <tr>\n",
       "      <th>2</th>\n",
       "      <td>SEX</td>\n",
       "      <td>0.000000</td>\n",
       "    </tr>\n",
       "  </tbody>\n",
       "</table>\n",
       "</div>"
      ],
      "text/plain": [
       "                feature  importance\n",
       "12     PROFESSIONAL_BIN    0.153863\n",
       "9            URBANICITY    0.081344\n",
       "30             OLDCLAIM    0.067071\n",
       "13  HIGHLY_EDUCATED_BIN    0.064709\n",
       "8               REVOKED    0.057228\n",
       "0               PARENT1    0.051549\n",
       "6              CAR_TYPE    0.048400\n",
       "14         KIDSDRIV_BIN    0.045833\n",
       "5               CAR_USE    0.044354\n",
       "25              MVR_PTS    0.042966\n",
       "28             HOME_VAL    0.039394\n",
       "1               MSTATUS    0.033006\n",
       "15         HOMEKIDS_BIN    0.026815\n",
       "27               INCOME    0.025545\n",
       "23                  TIF    0.024761\n",
       "10          AGE_GROUPED    0.024616\n",
       "26              CAR_AGE    0.022418\n",
       "22             TRAVTIME    0.020461\n",
       "18                  AGE    0.020053\n",
       "29             BLUEBOOK    0.018900\n",
       "20             HOMEKIDS    0.017593\n",
       "4                   JOB    0.012375\n",
       "19             KIDSDRIV    0.011085\n",
       "3             EDUCATION    0.010152\n",
       "21                  YOJ    0.009386\n",
       "7               RED_CAR    0.008907\n",
       "11          MVR_GROUPED    0.008871\n",
       "24             CLM_FREQ    0.008345\n",
       "17         OLDCLAIM_BIN    0.000000\n",
       "16         HOME_VAL_BIN    0.000000\n",
       "2                   SEX    0.000000"
      ]
     },
     "execution_count": 53,
     "metadata": {},
     "output_type": "execute_result"
    }
   ],
   "source": [
    "# We first look at the feature importances\n",
    "\n",
    "feat_imp = pd.DataFrame({'feature':X_test.columns, 'importance':model_xgb.feature_importances_})\n",
    "feat_imp.sort_values(by='importance', ascending=False)\n",
    "\n",
    "# We see that the newly created features like PROFESSIONAL_BIN, EDUCATED_BIN,\n",
    "# seem to be important along with some of the variables URBANICITY, OLDCLAIM etc that we assumed \n",
    "# would be from the correlation tests. \n",
    "# Also interestingly SEX and RED_CAR do not seem to be very important (like we deduced from the chi2 tests)"
   ]
  },
  {
   "cell_type": "code",
   "execution_count": null,
   "metadata": {},
   "outputs": [],
   "source": []
  }
 ],
 "metadata": {
  "kernelspec": {
   "display_name": "Python 3",
   "language": "python",
   "name": "python3"
  },
  "language_info": {
   "codemirror_mode": {
    "name": "ipython",
    "version": 3
   },
   "file_extension": ".py",
   "mimetype": "text/x-python",
   "name": "python",
   "nbconvert_exporter": "python",
   "pygments_lexer": "ipython3",
   "version": "3.7.5"
  }
 },
 "nbformat": 4,
 "nbformat_minor": 4
}
